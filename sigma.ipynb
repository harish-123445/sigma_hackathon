{
 "cells": [
  {
   "cell_type": "code",
   "execution_count": null,
   "id": "a3e05ce6-f669-483c-9439-2fb949c6793b",
   "metadata": {
    "tags": []
   },
   "outputs": [],
   "source": [
    "#pip install yfinance"
   ]
  },
  {
   "cell_type": "code",
   "execution_count": 44,
   "id": "dc5c0b42-4d84-43d9-9ecb-7fc17434d8df",
   "metadata": {},
   "outputs": [
    {
     "name": "stderr",
     "output_type": "stream",
     "text": [
      "[*********************100%%**********************]  1 of 1 completed"
     ]
    },
    {
     "name": "stdout",
     "output_type": "stream",
     "text": [
      "Date\n",
      "2023-01-03    125.070000\n",
      "2023-01-04    126.360001\n",
      "2023-01-05    125.019997\n",
      "2023-01-06    129.619995\n",
      "2023-01-09    130.149994\n",
      "Name: Close, dtype: float64\n"
     ]
    },
    {
     "name": "stderr",
     "output_type": "stream",
     "text": [
      "\n"
     ]
    }
   ],
   "source": [
    "import yfinance as yf\n",
    "\n",
    "aapl_data = yf.download(\"AAPL\", start=\"2023-01-01\", end=\"2023-12-31\")\n",
    "\n",
    "# Access daily closing prices\n",
    "daily_closing_prices = aapl_data['Close']\n",
    "\n",
    "# Print sample data\n",
    "print(daily_closing_prices.head())\n"
   ]
  },
  {
   "cell_type": "code",
   "execution_count": 45,
   "id": "f2c99844-1a9c-46a2-8e9f-6d2e6615c02f",
   "metadata": {
    "tags": []
   },
   "outputs": [],
   "source": [
    "daily_closing_prices.to_csv('dataset.csv')"
   ]
  },
  {
   "cell_type": "code",
   "execution_count": 46,
   "id": "70e71e3d-a72d-48af-8d92-990bf9cf7504",
   "metadata": {
    "tags": []
   },
   "outputs": [
    {
     "name": "stdout",
     "output_type": "stream",
     "text": [
      "Date\n",
      "2023-01-03    125.070000\n",
      "2023-01-04    126.360001\n",
      "2023-01-05    125.019997\n",
      "2023-01-06    129.619995\n",
      "2023-01-09    130.149994\n",
      "                 ...    \n",
      "2023-12-22    193.600006\n",
      "2023-12-26    193.050003\n",
      "2023-12-27    193.149994\n",
      "2023-12-28    193.580002\n",
      "2023-12-29    192.529999\n",
      "Name: Close, Length: 250, dtype: float64\n"
     ]
    }
   ],
   "source": [
    "print(daily_closing_prices)"
   ]
  },
  {
   "cell_type": "markdown",
   "id": "194efae8-24c4-4794-9da6-62c62ffbd970",
   "metadata": {},
   "source": [
    "DATA VISUALIZATION"
   ]
  },
  {
   "cell_type": "code",
   "execution_count": 18,
   "id": "bdcf3360-b855-4422-befd-b1f5e5189d8e",
   "metadata": {
    "tags": []
   },
   "outputs": [
    {
     "name": "stdout",
     "output_type": "stream",
     "text": [
      "Requirement already satisfied: pandas in /opt/conda/lib/python3.9/site-packages (1.3.5)\n",
      "Requirement already satisfied: python-dateutil>=2.7.3 in /opt/conda/lib/python3.9/site-packages (from pandas) (2.8.2)\n",
      "Requirement already satisfied: pytz>=2017.3 in /opt/conda/lib/python3.9/site-packages (from pandas) (2023.3)\n",
      "Requirement already satisfied: numpy>=1.17.3 in /opt/conda/lib/python3.9/site-packages (from pandas) (1.21.5)\n",
      "Requirement already satisfied: six>=1.5 in /opt/conda/lib/python3.9/site-packages (from python-dateutil>=2.7.3->pandas) (1.16.0)\n",
      "\u001b[33mWARNING: Running pip as the 'root' user can result in broken permissions and conflicting behaviour with the system package manager. It is recommended to use a virtual environment instead: https://pip.pypa.io/warnings/venv\u001b[0m\u001b[33m\n",
      "\u001b[0m\n",
      "\u001b[1m[\u001b[0m\u001b[34;49mnotice\u001b[0m\u001b[1;39;49m]\u001b[0m\u001b[39;49m A new release of pip is available: \u001b[0m\u001b[31;49m23.1.2\u001b[0m\u001b[39;49m -> \u001b[0m\u001b[32;49m24.0\u001b[0m\n",
      "\u001b[1m[\u001b[0m\u001b[34;49mnotice\u001b[0m\u001b[1;39;49m]\u001b[0m\u001b[39;49m To update, run: \u001b[0m\u001b[32;49mpip install --upgrade pip\u001b[0m\n",
      "Note: you may need to restart the kernel to use updated packages.\n"
     ]
    }
   ],
   "source": [
    "pip install pandas"
   ]
  },
  {
   "cell_type": "code",
   "execution_count": 47,
   "id": "e77f9b82-461b-4378-9051-59491fd2d0ba",
   "metadata": {
    "tags": []
   },
   "outputs": [],
   "source": [
    "import pandas as pd\n",
    "df=pd.read_csv('dataset.csv')"
   ]
  },
  {
   "cell_type": "code",
   "execution_count": 48,
   "id": "82ff83de-abc8-4853-9851-442042652ea3",
   "metadata": {
    "tags": []
   },
   "outputs": [
    {
     "data": {
      "text/html": [
       "<div>\n",
       "<style scoped>\n",
       "    .dataframe tbody tr th:only-of-type {\n",
       "        vertical-align: middle;\n",
       "    }\n",
       "\n",
       "    .dataframe tbody tr th {\n",
       "        vertical-align: top;\n",
       "    }\n",
       "\n",
       "    .dataframe thead th {\n",
       "        text-align: right;\n",
       "    }\n",
       "</style>\n",
       "<table border=\"1\" class=\"dataframe\">\n",
       "  <thead>\n",
       "    <tr style=\"text-align: right;\">\n",
       "      <th></th>\n",
       "      <th>Date</th>\n",
       "      <th>Close</th>\n",
       "    </tr>\n",
       "  </thead>\n",
       "  <tbody>\n",
       "    <tr>\n",
       "      <th>0</th>\n",
       "      <td>2023-01-03</td>\n",
       "      <td>125.070000</td>\n",
       "    </tr>\n",
       "    <tr>\n",
       "      <th>1</th>\n",
       "      <td>2023-01-04</td>\n",
       "      <td>126.360001</td>\n",
       "    </tr>\n",
       "    <tr>\n",
       "      <th>2</th>\n",
       "      <td>2023-01-05</td>\n",
       "      <td>125.019997</td>\n",
       "    </tr>\n",
       "    <tr>\n",
       "      <th>3</th>\n",
       "      <td>2023-01-06</td>\n",
       "      <td>129.619995</td>\n",
       "    </tr>\n",
       "    <tr>\n",
       "      <th>4</th>\n",
       "      <td>2023-01-09</td>\n",
       "      <td>130.149994</td>\n",
       "    </tr>\n",
       "  </tbody>\n",
       "</table>\n",
       "</div>"
      ],
      "text/plain": [
       "         Date       Close\n",
       "0  2023-01-03  125.070000\n",
       "1  2023-01-04  126.360001\n",
       "2  2023-01-05  125.019997\n",
       "3  2023-01-06  129.619995\n",
       "4  2023-01-09  130.149994"
      ]
     },
     "execution_count": 48,
     "metadata": {},
     "output_type": "execute_result"
    }
   ],
   "source": [
    "df.head()"
   ]
  },
  {
   "cell_type": "markdown",
   "id": "f0960a58-302b-462f-8b4c-74def5fc0665",
   "metadata": {},
   "source": [
    "DATA VISUALIZATION"
   ]
  },
  {
   "cell_type": "code",
   "execution_count": 17,
   "id": "9eb8b58e-71ef-44d7-9c49-acd442c8a1b6",
   "metadata": {
    "tags": []
   },
   "outputs": [
    {
     "name": "stdout",
     "output_type": "stream",
     "text": [
      "Requirement already satisfied: seaborn in /opt/conda/lib/python3.9/site-packages (0.11.2)\n",
      "Requirement already satisfied: numpy>=1.15 in /opt/conda/lib/python3.9/site-packages (from seaborn) (1.21.5)\n",
      "Requirement already satisfied: scipy>=1.0 in /opt/conda/lib/python3.9/site-packages (from seaborn) (1.7.1)\n",
      "Requirement already satisfied: pandas>=0.23 in /opt/conda/lib/python3.9/site-packages (from seaborn) (1.3.5)\n",
      "Requirement already satisfied: matplotlib>=2.2 in /opt/conda/lib/python3.9/site-packages (from seaborn) (3.4.3)\n",
      "Requirement already satisfied: cycler>=0.10 in /opt/conda/lib/python3.9/site-packages (from matplotlib>=2.2->seaborn) (0.11.0)\n",
      "Requirement already satisfied: kiwisolver>=1.0.1 in /opt/conda/lib/python3.9/site-packages (from matplotlib>=2.2->seaborn) (1.4.4)\n",
      "Requirement already satisfied: pillow>=6.2.0 in /opt/conda/lib/python3.9/site-packages (from matplotlib>=2.2->seaborn) (9.0.1)\n",
      "Requirement already satisfied: pyparsing>=2.2.1 in /opt/conda/lib/python3.9/site-packages (from matplotlib>=2.2->seaborn) (3.0.9)\n",
      "Requirement already satisfied: python-dateutil>=2.7 in /opt/conda/lib/python3.9/site-packages (from matplotlib>=2.2->seaborn) (2.8.2)\n",
      "Requirement already satisfied: pytz>=2017.3 in /opt/conda/lib/python3.9/site-packages (from pandas>=0.23->seaborn) (2023.3)\n",
      "Requirement already satisfied: six>=1.5 in /opt/conda/lib/python3.9/site-packages (from python-dateutil>=2.7->matplotlib>=2.2->seaborn) (1.16.0)\n",
      "\u001b[33mWARNING: Running pip as the 'root' user can result in broken permissions and conflicting behaviour with the system package manager. It is recommended to use a virtual environment instead: https://pip.pypa.io/warnings/venv\u001b[0m\u001b[33m\n",
      "\u001b[0m\n",
      "\u001b[1m[\u001b[0m\u001b[34;49mnotice\u001b[0m\u001b[1;39;49m]\u001b[0m\u001b[39;49m A new release of pip is available: \u001b[0m\u001b[31;49m23.1.2\u001b[0m\u001b[39;49m -> \u001b[0m\u001b[32;49m24.0\u001b[0m\n",
      "\u001b[1m[\u001b[0m\u001b[34;49mnotice\u001b[0m\u001b[1;39;49m]\u001b[0m\u001b[39;49m To update, run: \u001b[0m\u001b[32;49mpip install --upgrade pip\u001b[0m\n",
      "Note: you may need to restart the kernel to use updated packages.\n"
     ]
    }
   ],
   "source": [
    "pip install seaborn"
   ]
  },
  {
   "cell_type": "code",
   "execution_count": 49,
   "id": "9c640605-ca7e-49e4-9a01-45380c0b1144",
   "metadata": {
    "tags": []
   },
   "outputs": [
    {
     "data": {
      "image/png": "[encoded data removed]",
      "text/plain": [
       "<Figure size 864x576 with 1 Axes>"
      ]
     },
     "metadata": {},
     "output_type": "display_data"
    }
   ],
   "source": [
    "import seaborn as sns\n",
    "import pandas as pd\n",
    "import matplotlib.pyplot as plt\n",
    "\n",
    "df = pd.read_csv('dataset.csv')\n",
    "\n",
    "# Convert the 'Date' column to datetime format\n",
    "df['Date'] = pd.to_datetime(df['Date'])\n",
    "\n",
    "# Set the plotting style (optional)\n",
    "sns.set(style=\"whitegrid\")\n",
    "\n",
    "# Plotting the line chart using seaborn\n",
    "plt.figure(figsize=(12, 8))\n",
    "sns.lineplot(x='Date', y='Close', data=df, marker='o')\n",
    "\n",
    "# Adding labels and title\n",
    "plt.title('Closing Prices Over Time')\n",
    "plt.xlabel('Date')\n",
    "plt.ylabel('Closing Price')\n",
    "\n",
    "# Display the plot\n",
    "plt.show()\n"
   ]
  },
  {
   "cell_type": "markdown",
   "id": "68e0b69e-2f72-4a6b-a84b-4e653c4868cf",
   "metadata": {},
   "source": [
    "MOVING AVERAGE"
   ]
  },
  {
   "cell_type": "code",
   "execution_count": 50,
   "id": "3f68a83e-ebab-47b2-bb00-1fb0564676ea",
   "metadata": {
    "tags": []
   },
   "outputs": [
    {
     "data": {
      "image/png": "[encoded data removed]",
      "text/plain": [
       "<Figure size 864x576 with 1 Axes>"
      ]
     },
     "metadata": {},
     "output_type": "display_data"
    }
   ],
   "source": [
    "import pandas as pd\n",
    "import matplotlib.pyplot as plt\n",
    "\n",
    "df=pd.read_csv('dataset.csv')\n",
    "df['Date'] = pd.to_datetime(df['Date'])\n",
    "df.set_index('Date', inplace=True)\n",
    "\n",
    "window_size = 3\n",
    "df['SMA'] = df['Close'].rolling(window=window_size).mean()\n",
    "\n",
    "# Plot the closing prices and the moving average\n",
    "plt.figure(figsize=(12, 8))\n",
    "plt.plot(df['Close'], label='Closing Price', marker='o')\n",
    "plt.plot(df['SMA'], label=f'{window_size}-Day SMA', linestyle='--', color='orange', marker='o')\n",
    "\n",
    "# Customize the plot\n",
    "plt.title('Stock Price with Moving Average')\n",
    "plt.xlabel('Date')\n",
    "plt.ylabel('Price')\n",
    "plt.legend()\n",
    "plt.grid(True)\n",
    "plt.show()"
   ]
  },
  {
   "cell_type": "markdown",
   "id": "96726d74-8514-4752-a997-4a20ebc8669d",
   "metadata": {},
   "source": [
    "ARMA MODEL"
   ]
  },
  {
   "cell_type": "code",
   "execution_count": 15,
   "id": "58fa9031-7067-4ea3-ba65-8c9bb2a4fbc9",
   "metadata": {
    "tags": []
   },
   "outputs": [
    {
     "name": "stdout",
     "output_type": "stream",
     "text": [
      "Requirement already satisfied: statsmodels in /opt/conda/lib/python3.9/site-packages (0.13.2)\n",
      "Requirement already satisfied: numpy>=1.17 in /opt/conda/lib/python3.9/site-packages (from statsmodels) (1.21.5)\n",
      "Requirement already satisfied: scipy>=1.3 in /opt/conda/lib/python3.9/site-packages (from statsmodels) (1.7.1)\n",
      "Requirement already satisfied: pandas>=0.25 in /opt/conda/lib/python3.9/site-packages (from statsmodels) (1.3.5)\n",
      "Requirement already satisfied: patsy>=0.5.2 in /opt/conda/lib/python3.9/site-packages (from statsmodels) (0.5.2)\n",
      "Requirement already satisfied: packaging>=21.3 in /opt/conda/lib/python3.9/site-packages (from statsmodels) (23.0)\n",
      "Requirement already satisfied: python-dateutil>=2.7.3 in /opt/conda/lib/python3.9/site-packages (from pandas>=0.25->statsmodels) (2.8.2)\n",
      "Requirement already satisfied: pytz>=2017.3 in /opt/conda/lib/python3.9/site-packages (from pandas>=0.25->statsmodels) (2023.3)\n",
      "Requirement already satisfied: six in /opt/conda/lib/python3.9/site-packages (from patsy>=0.5.2->statsmodels) (1.16.0)\n",
      "\u001b[33mWARNING: Running pip as the 'root' user can result in broken permissions and conflicting behaviour with the system package manager. It is recommended to use a virtual environment instead: https://pip.pypa.io/warnings/venv\u001b[0m\u001b[33m\n",
      "\u001b[0m\n",
      "\u001b[1m[\u001b[0m\u001b[34;49mnotice\u001b[0m\u001b[1;39;49m]\u001b[0m\u001b[39;49m A new release of pip is available: \u001b[0m\u001b[31;49m23.1.2\u001b[0m\u001b[39;49m -> \u001b[0m\u001b[32;49m24.0\u001b[0m\n",
      "\u001b[1m[\u001b[0m\u001b[34;49mnotice\u001b[0m\u001b[1;39;49m]\u001b[0m\u001b[39;49m To update, run: \u001b[0m\u001b[32;49mpip install --upgrade pip\u001b[0m\n",
      "Note: you may need to restart the kernel to use updated packages.\n"
     ]
    }
   ],
   "source": [
    "pip install statsmodels"
   ]
  },
  {
   "cell_type": "code",
   "execution_count": 21,
   "id": "e2ad7b02-ee2b-451e-a8d6-dd9ea743cb09",
   "metadata": {
    "tags": []
   },
   "outputs": [
    {
     "name": "stdout",
     "output_type": "stream",
     "text": [
      "Root Mean Squared Error (RMSE): 14.148487255660806\n"
     ]
    },
    {
     "data": {
      "image/png": "[encoded data removed]",
      "text/plain": [
       "<Figure size 864x432 with 1 Axes>"
      ]
     },
     "metadata": {},
     "output_type": "display_data"
    }
   ],
   "source": [
    "from statsmodels.tsa.arima.model import ARIMA\n",
    "from sklearn.metrics import mean_squared_error\n",
    "from math import sqrt\n",
    "import matplotlib.pyplot as plt\n",
    "df = pd.read_csv('dataset.csv')\n",
    "df['Date'] = pd.to_datetime(df['Date'])\n",
    "df = df.set_index('Date')\n",
    "full_date_range = pd.date_range(start=df.index.min(), end=df.index.max(), freq='B')  \n",
    "df= df.reindex(full_date_range).fillna(method='ffill')  \n",
    "\n",
    "train_size = int(len(df) * 0.8)\n",
    "train, test = df[:train_size], df[train_size:]\n",
    "\n",
    "model = ARIMA(train['Close'], order=(5,1,0))  # Adjust order as needed\n",
    "model_fit = model.fit()\n",
    "\n",
    "# Make predictions\n",
    "predictions = model_fit.predict(start=len(train), end=len(train) + len(test) - 1, typ='levels')\n",
    "\n",
    "# Evaluate the model\n",
    "rmse = sqrt(mean_squared_error(test['Close'], predictions))\n",
    "print(f'Root Mean Squared Error (RMSE): {rmse}')\n",
    "\n",
    "# Plot the results\n",
    "plt.figure(figsize=(12, 6))\n",
    "plt.plot(train.index, train['Close'], label='Train')\n",
    "plt.plot(test.index, test['Close'], label='Test')\n",
    "plt.plot(test.index, predictions, label='Forecast', color='red')\n",
    "plt.title('ARIMA Forecasting')\n",
    "plt.xlabel('Date')\n",
    "plt.ylabel('Closing Price')\n",
    "plt.legend()\n",
    "plt.show()\n"
   ]
  },
  {
   "cell_type": "markdown",
   "id": "5c2ca36b-654d-4452-8448-d9c0b975f252",
   "metadata": {},
   "source": [
    "DESCRIPTIVE STATISTICS"
   ]
  },
  {
   "cell_type": "code",
   "execution_count": 22,
   "id": "42d6ea76-9288-4689-8c35-7b315252e39c",
   "metadata": {
    "tags": []
   },
   "outputs": [
    {
     "name": "stdout",
     "output_type": "stream",
     "text": [
      "Descriptive Statistics for Closing Price:\n",
      "count    259.000000\n",
      "mean     172.650193\n",
      "std       17.423451\n",
      "min      125.019997\n",
      "25%      162.195000\n",
      "50%      175.490005\n",
      "75%      187.759995\n",
      "max      198.110001\n",
      "Name: Close, dtype: float64\n",
      "\n",
      "Additional Statistics:\n",
      "Median: 175.49000549316406\n",
      "Standard Deviation: 17.42345066757017\n"
     ]
    }
   ],
   "source": [
    "summary_stats = df['Close'].describe()\n",
    "\n",
    "# Print the summary statistics\n",
    "print(\"Descriptive Statistics for Closing Price:\")\n",
    "print(summary_stats)\n",
    "\n",
    "# Additional statistics\n",
    "median_value = df['Close'].median()\n",
    "std_deviation = df['Close'].std()\n",
    "\n",
    "print(\"\\nAdditional Statistics:\")\n",
    "print(f\"Median: {median_value}\")\n",
    "print(f\"Standard Deviation: {std_deviation}\")\n"
   ]
  },
  {
   "cell_type": "markdown",
   "id": "693216e1-6df2-410d-98e6-77e1a952b016",
   "metadata": {},
   "source": [
    "MODEL"
   ]
  },
  {
   "cell_type": "code",
   "execution_count": 5,
   "id": "b2ea685a-e4ec-4aaa-95f7-47a7b0c14cc6",
   "metadata": {
    "tags": []
   },
   "outputs": [],
   "source": [
    "\n",
    "import pandas as pd\n",
    "df=pd.read_csv('dataset.csv')"
   ]
  },
  {
   "cell_type": "code",
   "execution_count": 6,
   "id": "c59b10eb-0d0b-4195-b0e8-27b3278c89b9",
   "metadata": {
    "tags": []
   },
   "outputs": [
    {
     "name": "stdout",
     "output_type": "stream",
     "text": [
      "                 Close   returns\n",
      "Date                            \n",
      "2023-01-03  125.070000       NaN\n",
      "2023-01-04  126.360001  0.010314\n",
      "2023-01-05  125.019997 -0.010605\n",
      "2023-01-06  129.619995  0.036794\n",
      "2023-01-09  130.149994  0.004089\n"
     ]
    }
   ],
   "source": [
    "#calculating the returns\n",
    "df['Date'] = pd.to_datetime(df['Date'])\n",
    "df.set_index('Date', inplace=True)\n",
    "df1=df.copy()\n",
    "returns=df1.pct_change()\n",
    "df['returns']=returns['Close']\n",
    "print(df.head())"
   ]
  },
  {
   "cell_type": "code",
   "execution_count": 7,
   "id": "59971355-4135-4374-a599-bbc0549a72bb",
   "metadata": {
    "tags": []
   },
   "outputs": [
    {
     "data": {
      "text/html": [
       "<div>\n",
       "<style scoped>\n",
       "    .dataframe tbody tr th:only-of-type {\n",
       "        vertical-align: middle;\n",
       "    }\n",
       "\n",
       "    .dataframe tbody tr th {\n",
       "        vertical-align: top;\n",
       "    }\n",
       "\n",
       "    .dataframe thead th {\n",
       "        text-align: right;\n",
       "    }\n",
       "</style>\n",
       "<table border=\"1\" class=\"dataframe\">\n",
       "  <thead>\n",
       "    <tr style=\"text-align: right;\">\n",
       "      <th></th>\n",
       "      <th>Close</th>\n",
       "      <th>returns</th>\n",
       "      <th>state</th>\n",
       "      <th>category</th>\n",
       "    </tr>\n",
       "    <tr>\n",
       "      <th>Date</th>\n",
       "      <th></th>\n",
       "      <th></th>\n",
       "      <th></th>\n",
       "      <th></th>\n",
       "    </tr>\n",
       "  </thead>\n",
       "  <tbody>\n",
       "    <tr>\n",
       "      <th>2023-01-03</th>\n",
       "      <td>125.070000</td>\n",
       "      <td>NaN</td>\n",
       "      <td>-1</td>\n",
       "      <td>bear</td>\n",
       "    </tr>\n",
       "    <tr>\n",
       "      <th>2023-01-04</th>\n",
       "      <td>126.360001</td>\n",
       "      <td>0.010314</td>\n",
       "      <td>1</td>\n",
       "      <td>bull</td>\n",
       "    </tr>\n",
       "    <tr>\n",
       "      <th>2023-01-05</th>\n",
       "      <td>125.019997</td>\n",
       "      <td>-0.010605</td>\n",
       "      <td>-1</td>\n",
       "      <td>bear</td>\n",
       "    </tr>\n",
       "    <tr>\n",
       "      <th>2023-01-06</th>\n",
       "      <td>129.619995</td>\n",
       "      <td>0.036794</td>\n",
       "      <td>1</td>\n",
       "      <td>bull</td>\n",
       "    </tr>\n",
       "    <tr>\n",
       "      <th>2023-01-09</th>\n",
       "      <td>130.149994</td>\n",
       "      <td>0.004089</td>\n",
       "      <td>0</td>\n",
       "      <td>flat</td>\n",
       "    </tr>\n",
       "  </tbody>\n",
       "</table>\n",
       "</div>"
      ],
      "text/plain": [
       "                 Close   returns  state category\n",
       "Date                                            \n",
       "2023-01-03  125.070000       NaN     -1     bear\n",
       "2023-01-04  126.360001  0.010314      1     bull\n",
       "2023-01-05  125.019997 -0.010605     -1     bear\n",
       "2023-01-06  129.619995  0.036794      1     bull\n",
       "2023-01-09  130.149994  0.004089      0     flat"
      ]
     },
     "execution_count": 7,
     "metadata": {},
     "output_type": "execute_result"
    }
   ],
   "source": [
    "#state classification\n",
    "import math\n",
    "import numpy as np\n",
    "s=[]\n",
    "s1=[]\n",
    "for i in df['returns'].values:\n",
    "    if i>=0.01:\n",
    "        s.append(1)\n",
    "        s1.append('bull')\n",
    "    elif i>-0.01:\n",
    "        s.append(0)\n",
    "        s1.append('flat')\n",
    "    else:\n",
    "        s.append(-1)\n",
    "        s1.append('bear')\n",
    "df['state']=s\n",
    "df['category']=s1\n",
    "df.head()"
   ]
  },
  {
   "cell_type": "code",
   "execution_count": 8,
   "id": "3a3abc4e-1e4f-4136-b078-7fd6c1ddcc53",
   "metadata": {
    "tags": []
   },
   "outputs": [
    {
     "name": "stdout",
     "output_type": "stream",
     "text": [
      "[-1, 1, -1, 1, 0, 0, 1, 0, 1, 0, 0, 0, 1, 1, 1, 0, 1, 1, -1, 0, 0, 1, 1, -1, 1, -1, 0, 0, 1, 0, 1, -1, 0, -1, 0, 0, -1, 0, 0, -1, 0, 1, 1, -1, 0, -1, -1, 1, 1, 0, 1, 0, 1, 1, 0, 0, 0, -1, 0, 1, 0, 1, 0, 0, -1, 0, -1, 0, 0, 1, 0, 0, 0, 0, 0, 0, 0, 0, 0, 1, 0, 0, 0, 0, 0, 1, 0, 0, 1, 0, 0, 0, 0, 0, 1, 0, 0, -1, 0, 0, 1, 1, 0, 1, 0, 0, 0, 0, 1, 0, 1, 0, 0, 1, 0, 0, 0, 1, 0, 0, 1, 0, 0, 1, 0, 0, 0, 0, -1, 0, 0, 0, 0, 1, 0, 0, -1, 0, 0, 0, 0, 0, 1, 0, 0, -1, 0, -1, -1, 0, 0, 0, 0, 0, -1, 0, -1, 0, 0, 0, 1, -1, 1, 0, 1, 1, 0, 0, 0, -1, -1, 0, 0, -1, -1, 0, 0, 1, 0, -1, 0, 0, 0, -1, 0, 0, 0, 1, 0, 0, 0, 1, 0, 0, 0, 0, -1, 0, 0, 0, 0, -1, 0, 0, -1, -1, 0, 1, 0, 1, 1, 0, 1, 1, 0, 0, 1, 0, 1, 0, 0, 0, 0, 0, 0, 0, 0, 0, 0, 0, 0, 0, 1, 0, 1, 0, -1, 0, 1, 0, 0, 0, 0, -1, 0, 0, 0, 0, 0, 0]\n"
     ]
    }
   ],
   "source": [
    "print(list(df.state.values))"
   ]
  },
  {
   "cell_type": "code",
   "execution_count": 9,
   "id": "81e57b4e-0fb9-4953-a707-1dac72af0624",
   "metadata": {
    "tags": []
   },
   "outputs": [
    {
     "name": "stdout",
     "output_type": "stream",
     "text": [
      "Final Portfolio Value: 17\n",
      "Optimal Buy Indices: [6, 8, 12, 16, 21, 28, 30, 41, 50, 52, 59, 61, 69, 79, 85, 88, 94, 100, 103, 108, 110, 113, 117, 120, 123, 133, 142, 160, 164, 177, 187, 191, 207, 209, 212, 216, 218, 232, 234, 238]\n",
      "\n",
      "Transition Matrix:\n",
      "          Bear      Flat      Bull\n",
      "Bear  0.138889  0.722222  0.138889\n",
      "Flat  0.146497  0.598726  0.254777\n",
      "Bull  0.125000  0.678571  0.196429\n"
     ]
    }
   ],
   "source": [
    "import warnings\n",
    "import numpy as np\n",
    "warnings.filterwarnings(\"ignore\")\n",
    "def calculate_transition_matrix(states):\n",
    "    transition_matrix = np.zeros((3, 3))\n",
    "\n",
    "    for i in range(1, len(states)):\n",
    "        current_state = int(states[i - 1]) + 1\n",
    "        next_state = int(states[i]) + 1\n",
    "        transition_matrix[current_state, next_state] += 1\n",
    "\n",
    "    # Check for division by zero\n",
    "    non_zero_rows = (transition_matrix.sum(axis=1) != 0)\n",
    "    transition_matrix[non_zero_rows] /= transition_matrix[non_zero_rows].sum(axis=1, keepdims=True)\n",
    "\n",
    "    return transition_matrix\n",
    "\n",
    "def simulate_trading(prices):\n",
    "    states=df['state'].values\n",
    "    portfolio_value = 0\n",
    "    optimal_buy_indices = []\n",
    "\n",
    "    for i in range(1,len(prices)-1):\n",
    "        current_state = int(states[i - 1])\n",
    "        next_state = int(states[i])\n",
    "\n",
    "        if next_state == 1 and current_state == 0:\n",
    "            portfolio_value += 1\n",
    "            optimal_buy_indices.append(i)\n",
    "\n",
    "        elif next_state == -1 and current_state == 0:\n",
    "            portfolio_value -= 1\n",
    "\n",
    "    transition_matrix = calculate_transition_matrix(states)\n",
    "\n",
    "    return portfolio_value, optimal_buy_indices, transition_matrix\n",
    "\n",
    "final_portfolio_value, optimal_buy_indices, transition_matrix = simulate_trading(df['Close'].values)\n",
    "\n",
    "print(\"Final Portfolio Value:\", final_portfolio_value)\n",
    "print(\"Optimal Buy Indices:\", optimal_buy_indices)\n",
    "print(\"\\nTransition Matrix:\")\n",
    "print(pd.DataFrame(transition_matrix, index=['Bear', 'Flat', 'Bull'], columns=['Bear', 'Flat', 'Bull']))"
   ]
  },
  {
   "cell_type": "code",
   "execution_count": 10,
   "id": "a6aaf9fa-8558-4867-ad1b-b391bd56ac4a",
   "metadata": {
    "tags": []
   },
   "outputs": [
    {
     "name": "stdout",
     "output_type": "stream",
     "text": [
      "40\n"
     ]
    }
   ],
   "source": [
    "print(len(optimal_buy_indices))"
   ]
  },
  {
   "cell_type": "code",
   "execution_count": 13,
   "id": "de456f9b-83bf-4dde-843b-ef2d8b9cb3c8",
   "metadata": {
    "tags": []
   },
   "outputs": [
    {
     "name": "stdout",
     "output_type": "stream",
     "text": [
      "Date\n",
      "2023-01-11    133.490005\n",
      "2023-01-13    134.759995\n",
      "2023-01-20    137.869995\n",
      "2023-01-26    143.960007\n",
      "2023-02-02    150.820007\n",
      "2023-02-13    153.850006\n",
      "2023-02-15    155.330002\n",
      "2023-03-03    151.029999\n",
      "2023-03-16    155.850006\n",
      "2023-03-20    157.399994\n",
      "2023-03-29    160.770004\n",
      "2023-03-31    164.899994\n",
      "2023-04-13    165.559998\n",
      "2023-04-27    168.410004\n",
      "2023-05-05    173.570007\n",
      "2023-05-10    173.559998\n",
      "2023-05-18    175.050003\n",
      "2023-05-26    175.429993\n",
      "2023-06-01    180.089996\n",
      "2023-06-08    180.570007\n",
      "2023-06-12    183.789993\n",
      "2023-06-15    186.009995\n",
      "2023-06-22    187.000000\n",
      "2023-06-27    188.059998\n",
      "2023-06-30    193.970001\n",
      "2023-07-17    193.990005\n",
      "2023-07-28    195.830002\n",
      "2023-08-23    181.119995\n",
      "2023-08-29    184.119995\n",
      "2023-09-18    177.970001\n",
      "2023-10-02    173.750000\n",
      "2023-10-06    177.490005\n",
      "2023-10-30    170.289993\n",
      "2023-11-01    173.970001\n",
      "2023-11-06    179.229996\n",
      "2023-11-10    186.399994\n",
      "2023-11-14    187.440002\n",
      "2023-12-05    193.419998\n",
      "2023-12-07    194.270004\n",
      "2023-12-13    197.960007\n",
      "Name: Close, dtype: float64\n"
     ]
    }
   ],
   "source": [
    "#printing the optimal dates of buying \n",
    "final_Dates=df.iloc[optimal_buy_indices,0]\n",
    "print(final_Dates)"
   ]
  },
  {
   "cell_type": "markdown",
   "id": "af82bf69-0e54-4ee3-98fd-b3e0d07e63f1",
   "metadata": {},
   "source": [
    "QUANTROCKET DATASET COLLECTION"
   ]
  },
  {
   "cell_type": "code",
   "execution_count": 201,
   "id": "1a0d8258-3e36-45d3-af87-f607f367272a",
   "metadata": {
    "tags": []
   },
   "outputs": [
    {
     "data": {
      "text/plain": [
       "{'licensekey': 'fe9b........3863', 'software_license': {}}"
      ]
     },
     "execution_count": 201,
     "metadata": {},
     "output_type": "execute_result"
    }
   ],
   "source": [
    "from quantrocket.license import set_license,get_license_profile\n",
    "set_license(\"fe9b2b29-deaa-11ee-8a1b-3d068da63863\")\n",
    "get_license_profile(force_refresh=True)"
   ]
  },
  {
   "cell_type": "code",
   "execution_count": null,
   "id": "48c9f82b-2a51-4dcb-865f-4d9d1755084a",
   "metadata": {
    "tags": []
   },
   "outputs": [],
   "source": [
    "from quantrocket.history import collect_history\n",
    "collect_history(\"usstock-free-1d\")"
   ]
  },
  {
   "cell_type": "code",
   "execution_count": 208,
   "id": "11a0afe7-36b5-4a7b-8f43-9edd1e8e5da1",
   "metadata": {
    "tags": []
   },
   "outputs": [
    {
     "data": {
      "text/plain": [
       "{'status': 'success', 'msg': 'successfully created usstock-1d-bundle bundle'}"
      ]
     },
     "execution_count": 208,
     "metadata": {},
     "output_type": "execute_result"
    }
   ],
   "source": [
    "from quantrocket.zipline import create_usstock_bundle\n",
    "create_usstock_bundle(\"usstock-1d-bundle\", data_frequency=\"daily\",free=True)\n"
   ]
  },
  {
   "cell_type": "code",
   "execution_count": 210,
   "id": "dcfed3eb-eaa7-4239-a0f7-ccd0d034db3f",
   "metadata": {
    "tags": []
   },
   "outputs": [
    {
     "data": {
      "text/plain": [
       "{'status': 'success',\n",
       " 'msg': 'successfully created free-usstock-1d-bundle bundle'}"
      ]
     },
     "execution_count": 210,
     "metadata": {},
     "output_type": "execute_result"
    }
   ],
   "source": [
    "create_usstock_bundle(\"free-usstock-1d-bundle\", data_frequency=\"daily\", free=True)"
   ]
  },
  {
   "cell_type": "code",
   "execution_count": 211,
   "id": "31cc135b-f3bf-4579-b425-4e4b7e06974e",
   "metadata": {
    "tags": []
   },
   "outputs": [
    {
     "data": {
      "text/plain": [
       "{'status': 'the data will be ingested asynchronously'}"
      ]
     },
     "execution_count": 211,
     "metadata": {},
     "output_type": "execute_result"
    }
   ],
   "source": [
    "from quantrocket.zipline import ingest_bundle\n",
    "ingest_bundle(\"usstock-1d-bundle\")"
   ]
  }
 ],
 "metadata": {
  "kernelspec": {
   "display_name": "Python 3.9",
   "language": "python",
   "name": "python3"
  },
  "language_info": {
   "codemirror_mode": {
    "name": "ipython",
    "version": 3
   },
   "file_extension": ".py",
   "mimetype": "text/x-python",
   "name": "python",
   "nbconvert_exporter": "python",
   "pygments_lexer": "ipython3",
   "version": "3.9.12"
  }
 },
 "nbformat": 4,
 "nbformat_minor": 5
}
