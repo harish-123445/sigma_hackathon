{
 "cells": [
  {
   "cell_type": "markdown",
   "id": "b812932e-564a-4cfe-a74d-4a44b34ddb57",
   "metadata": {},
   "source": [
    "# QuantRocket Data Fetch\n",
    "## Apple Stock"
   ]
  },
  {
   "cell_type": "code",
   "execution_count": null,
   "id": "14a93bca-339b-49e6-9396-e6866a36f1ae",
   "metadata": {
    "tags": []
   },
   "outputs": [],
   "source": [
    "from quantrocket.license import set_license\n",
    "from quantrocket.master import collect_usstock_listings,get_securities\n",
    "from quantrocket.zipline import create_usstock_bundle,ingest_bundle\n",
    "from quantrocket import get_prices"
   ]
  },
  {
   "cell_type": "code",
   "execution_count": 16,
   "id": "929fa372-0ecd-42d7-a215-40b20ab6c45a",
   "metadata": {
    "tags": []
   },
   "outputs": [
    {
     "data": {
      "text/plain": [
       "{'status': 'success', 'msg': 'already up-to-date'}"
      ]
     },
     "execution_count": 16,
     "metadata": {},
     "output_type": "execute_result"
    }
   ],
   "source": [
    "set_license('835f99de-dfaf-11ee-b469-6fa21093626f')"
   ]
  },
  {
   "cell_type": "code",
   "execution_count": null,
   "id": "d7abfdb7-54ae-4caf-a6b4-92e33620a2e1",
   "metadata": {},
   "outputs": [],
   "source": [
    "collect_usstock_listings()"
   ]
  },
  {
   "cell_type": "code",
   "execution_count": 18,
   "id": "51e426ab-6ac3-4754-bab7-d856d2e697b9",
   "metadata": {
    "tags": []
   },
   "outputs": [
    {
     "data": {
      "text/html": [
       "<div>\n",
       "<style scoped>\n",
       "    .dataframe tbody tr th:only-of-type {\n",
       "        vertical-align: middle;\n",
       "    }\n",
       "\n",
       "    .dataframe tbody tr th {\n",
       "        vertical-align: top;\n",
       "    }\n",
       "\n",
       "    .dataframe thead th {\n",
       "        text-align: right;\n",
       "    }\n",
       "</style>\n",
       "<table border=\"1\" class=\"dataframe\">\n",
       "  <thead>\n",
       "    <tr style=\"text-align: right;\">\n",
       "      <th></th>\n",
       "      <th>Symbol</th>\n",
       "      <th>Exchange</th>\n",
       "    </tr>\n",
       "    <tr>\n",
       "      <th>Sid</th>\n",
       "      <th></th>\n",
       "      <th></th>\n",
       "    </tr>\n",
       "  </thead>\n",
       "  <tbody>\n",
       "    <tr>\n",
       "      <th>FIBBG000B9XRY4</th>\n",
       "      <td>AAPL</td>\n",
       "      <td>XNAS</td>\n",
       "    </tr>\n",
       "  </tbody>\n",
       "</table>\n",
       "</div>"
      ],
      "text/plain": [
       "               Symbol Exchange\n",
       "Sid                           \n",
       "FIBBG000B9XRY4   AAPL     XNAS"
      ]
     },
     "execution_count": 18,
     "metadata": {},
     "output_type": "execute_result"
    }
   ],
   "source": [
    "securities=get_securities(symbols='AAPL',fields=['Sid','Symbol','Exchange'],vendors='usstock')\n",
    "print(securities)"
   ]
  },
  {
   "cell_type": "code",
   "execution_count": null,
   "id": "3e6c4c64-08de-497e-8aff-f5900cae8a47",
   "metadata": {
    "tags": []
   },
   "outputs": [],
   "source": [
    "create_usstock_bundle('usstock-free-1min',free=True)"
   ]
  },
  {
   "cell_type": "code",
   "execution_count": 20,
   "id": "775a50e9-b597-41c8-93af-1e78c55e205e",
   "metadata": {
    "tags": []
   },
   "outputs": [
    {
     "data": {
      "text/plain": [
       "{'status': 'the data will be ingested asynchronously'}"
      ]
     },
     "execution_count": 20,
     "metadata": {},
     "output_type": "execute_result"
    }
   ],
   "source": [
    "from quantrocket.zipline import ingest_bundle\n",
    "ingest_bundle('usstock-free-1min')"
   ]
  },
  {
   "cell_type": "code",
   "execution_count": 21,
   "id": "33e45e06-7791-4ecb-aa60-e73e6977514b",
   "metadata": {
    "tags": []
   },
   "outputs": [],
   "source": [
    "data=get_prices(\"usstock-free-1min\",data_frequency='daily',sids='FIBBG000B9XRY4',start_date='2023-01-01',end_date='2023-12-31',fields='Close')"
   ]
  },
  {
   "cell_type": "code",
   "execution_count": 23,
   "id": "f2c99844-1a9c-46a2-8e9f-6d2e6615c02f",
   "metadata": {
    "tags": []
   },
   "outputs": [],
   "source": [
    "data.to_csv('dataset.csv')"
   ]
  }
 ],
 "metadata": {
  "kernelspec": {
   "display_name": "Python 3.9",
   "language": "python",
   "name": "python3"
  },
  "language_info": {
   "codemirror_mode": {
    "name": "ipython",
    "version": 3
   },
   "file_extension": ".py",
   "mimetype": "text/x-python",
   "name": "python",
   "nbconvert_exporter": "python",
   "pygments_lexer": "ipython3",
   "version": "3.9.12"
  }
 },
 "nbformat": 4,
 "nbformat_minor": 5
}
